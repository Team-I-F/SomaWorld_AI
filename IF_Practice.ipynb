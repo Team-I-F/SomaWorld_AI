{
  "nbformat": 4,
  "nbformat_minor": 0,
  "metadata": {
    "colab": {
      "provenance": []
    },
    "kernelspec": {
      "name": "python3",
      "display_name": "Python 3"
    },
    "language_info": {
      "name": "python"
    }
  },
  "cells": [
    {
      "cell_type": "code",
      "source": [
        "import requests\n",
        "from urllib import request\n",
        "from bs4 import BeautifulSoup\n",
        "import time"
      ],
      "metadata": {
        "id": "D13-uXdumeGT"
      },
      "execution_count": null,
      "outputs": []
    },
    {
      "cell_type": "code",
      "source": [
        "BASE_URL = \"https://gall.dcinside.com/board/lists\"\n",
        "ARTICLE_BASE_URL = \"https://gall.dcinside.com\""
      ],
      "metadata": {
        "id": "9SVAgBeVmqed"
      },
      "execution_count": null,
      "outputs": []
    },
    {
      "cell_type": "code",
      "source": [
        "headers = [\n",
        "    {'User-Agent' : 'Mozilla/5.0 (Linux; Android 6.0; Nexus 5 Build/MRA58N) AppleWebKit/537.36 (KHTML, like Gecko) Chrome/111.0.0.0 Mobile Safari/537.36'},\n",
        "]"
      ],
      "metadata": {
        "id": "26jtHDWcnCHn"
      },
      "execution_count": null,
      "outputs": []
    },
    {
      "cell_type": "code",
      "source": [
        "for i in range(1, 10):\n",
        "  params = {'id': 'leagueoflegends4','page':i}\n",
        "  response = requests.get(BASE_URL, params=params, headers=headers[0])\n",
        "  soup = BeautifulSoup(response.content, 'html.parser')"
      ],
      "metadata": {
        "id": "SbzwZ0wEnQqo"
      },
      "execution_count": null,
      "outputs": []
    },
    {
      "cell_type": "code",
      "source": [
        "  if soup != None:\n",
        "    soup.find_all('0')\n",
        "    print(soup)\n",
        "  else:\n",
        "    print('soup value none임')\n",
        "\n",
        "  article_list = soup.find('tbody').find_all('tr')"
      ],
      "metadata": {
        "id": "bdGMSKrOxUww",
        "colab": {
          "base_uri": "https://localhost:8080/",
          "height": 227
        },
        "outputId": "ba24b2d5-4c15-4269-a932-e5b2847b4cba"
      },
      "execution_count": null,
      "outputs": [
        {
          "output_type": "stream",
          "name": "stdout",
          "text": [
            "<script>location.href = 'https://m.dcinside.com/board/leagueoflegends4';</script>\n"
          ]
        },
        {
          "output_type": "error",
          "ename": "AttributeError",
          "evalue": "ignored",
          "traceback": [
            "\u001b[0;31m---------------------------------------------------------------------------\u001b[0m",
            "\u001b[0;31mAttributeError\u001b[0m                            Traceback (most recent call last)",
            "\u001b[0;32m<ipython-input-25-1f17f9fdb0ca>\u001b[0m in \u001b[0;36m<cell line: 7>\u001b[0;34m()\u001b[0m\n\u001b[1;32m      5\u001b[0m   \u001b[0mprint\u001b[0m\u001b[0;34m(\u001b[0m\u001b[0;34m'soup value none임'\u001b[0m\u001b[0;34m)\u001b[0m\u001b[0;34m\u001b[0m\u001b[0;34m\u001b[0m\u001b[0m\n\u001b[1;32m      6\u001b[0m \u001b[0;34m\u001b[0m\u001b[0m\n\u001b[0;32m----> 7\u001b[0;31m \u001b[0marticle_list\u001b[0m \u001b[0;34m=\u001b[0m \u001b[0msoup\u001b[0m\u001b[0;34m.\u001b[0m\u001b[0mfind\u001b[0m\u001b[0;34m(\u001b[0m\u001b[0;34m'tbody'\u001b[0m\u001b[0;34m)\u001b[0m\u001b[0;34m.\u001b[0m\u001b[0mfind_all\u001b[0m\u001b[0;34m(\u001b[0m\u001b[0;34m'tr'\u001b[0m\u001b[0;34m)\u001b[0m\u001b[0;34m\u001b[0m\u001b[0;34m\u001b[0m\u001b[0m\n\u001b[0m",
            "\u001b[0;31mAttributeError\u001b[0m: 'NoneType' object has no attribute 'find_all'"
          ]
        }
      ]
    },
    {
      "cell_type": "code",
      "source": [
        "  for tr_item in article_list:\n",
        "    image_flag = tr_item.find('em', class_='icon_img icon_pic')\n",
        "\n",
        "    if image_flag is None:\n",
        "      continue"
      ],
      "metadata": {
        "id": "wXKxMxENnXz2"
      },
      "execution_count": null,
      "outputs": []
    },
    {
      "cell_type": "code",
      "source": [
        "    print('+'*12)"
      ],
      "metadata": {
        "id": "BX4_tV_Yt6hh"
      },
      "execution_count": null,
      "outputs": []
    },
    {
      "cell_type": "code",
      "source": [
        "    title_tag = tr_item.find('a', href=True)\n",
        "    title = title_tag.text\n",
        "\n",
        "    print(\"제목: \", title)\n",
        "    print(\"주소: \", title_tag['href'])\n",
        "\n",
        "    article_response = requests.get(ARTICLE_BASE_URL + title_tag['href'], headers=headers[0])\n",
        "    print(\"url: \", article_response.url)\n",
        "    \n",
        "    article_id = (title_tag['href'].split('no=')[1]).split('&')[0]\n",
        "    print(\"게시물 ID: \", article_id)"
      ],
      "metadata": {
        "id": "nSp1tJpPt8xJ"
      },
      "execution_count": null,
      "outputs": []
    },
    {
      "cell_type": "code",
      "source": [
        "    article_soup = BeautifulSoup(article_response.content, 'html.parser')\n",
        "\n",
        "    article_contents = article_soup.find('div', class_='writing_view_box').find_all('div')\n",
        "\n",
        "    image_download_contents = article_soup.find('div', class_='appending_file_box').find('ul').find_all('li')"
      ],
      "metadata": {
        "id": "Ufn05HrDuBrG"
      },
      "execution_count": null,
      "outputs": []
    },
    {
      "cell_type": "code",
      "source": [
        "    for li in image_download_contents:\n",
        "      img_tag = li.find('a', href=True)\n",
        "      img_url = img_tag['href']\n",
        "      print(\"url: \"+img_url)"
      ],
      "metadata": {
        "id": "1YNlkWq5uFA7"
      },
      "execution_count": null,
      "outputs": []
    },
    {
      "cell_type": "code",
      "source": [
        "      file_ext = img_url.split('.')[-1]\n",
        "\n",
        "      savename = \"test.\" + file_ext"
      ],
      "metadata": {
        "id": "3E2FEH1juG3C"
      },
      "execution_count": null,
      "outputs": []
    },
    {
      "cell_type": "code",
      "source": [
        "      opener = request.build_opener()\n",
        "      opener.addheaders = [('User-agent', 'Mozilla/5.0 (Linux; Android 6.0; Nexus 5 Build/MRA58N) AppleWebKit/537.36 (KHTML, like Gecko) Chrome/111.0.0.0 Mobile Safari/537.36'), ('Referer', article_response.url)]\n",
        "      request.install_opener(opener)\n",
        "      request.urlretrieve(img_url, savename)"
      ],
      "metadata": {
        "id": "8ynWfHH7uJN4"
      },
      "execution_count": null,
      "outputs": []
    },
    {
      "cell_type": "code",
      "source": [
        "      print(\"url: \"+img_url)"
      ],
      "metadata": {
        "id": "QDKmGUBZuL9Z"
      },
      "execution_count": null,
      "outputs": []
    }
  ]
}